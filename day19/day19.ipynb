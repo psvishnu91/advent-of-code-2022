{
 "cells": [
  {
   "cell_type": "code",
   "execution_count": 315,
   "id": "d426f965",
   "metadata": {},
   "outputs": [
    {
     "data": {
      "text/html": [
       "<style>.container { width:100% !important; }</style>"
      ],
      "text/plain": [
       "<IPython.core.display.HTML object>"
      ]
     },
     "metadata": {},
     "output_type": "display_data"
    }
   ],
   "source": [
    "from IPython.display import display, HTML\n",
    "display(HTML(\"<style>.container { width:100% !important; }</style>\"))"
   ]
  },
  {
   "cell_type": "code",
   "execution_count": 233,
   "id": "f02c0487",
   "metadata": {},
   "outputs": [],
   "source": [
    "from dataclasses import dataclass, field\n",
    "import typing as t\n",
    "import itertools as it\n",
    "import collections as c\n",
    "import json\n",
    "from copy import deepcopy\n",
    "import math\n",
    "import time\n",
    "import functools as ft"
   ]
  },
  {
   "cell_type": "code",
   "execution_count": 82,
   "id": "f0f07704",
   "metadata": {},
   "outputs": [],
   "source": [
    "def default_player():\n",
    "    return dict(\n",
    "        ore=0,\n",
    "        clay=0,\n",
    "        obsidian=0,\n",
    "        geode=0,\n",
    "        rate=dict(\n",
    "            ore=1,\n",
    "            clay=0,\n",
    "            obsidian=0,\n",
    "            geode=0,\n",
    "        ),\n",
    "    )\n",
    "\n",
    "def str_player(player):\n",
    "    return str(\"Player({})\".format(\", \".join(f\"{k}={v}\"for k, v in player.items())))"
   ]
  },
  {
   "cell_type": "code",
   "execution_count": 348,
   "id": "0f551232",
   "metadata": {},
   "outputs": [],
   "source": [
    "import re\n",
    "\n",
    "def parse_raw_input(fl):\n",
    "    bps = {}\n",
    "    input_lns = open(\"input.txt\").read().splitlines()\n",
    "    for ln in input_lns:\n",
    "        bp_id, ore_rbt_ore_cost, cly_rbt_ore_cost, obs_rbt_ore_cost, obs_rbt_clay_cost, geode_rbt_ore_cost, geode_rbt_obs_cost  = (\n",
    "            int(n)\n",
    "            for n in re.findall(\n",
    "            r\"Blueprint (\\d+): Each ore robot costs (\\d+) ore. Each clay robot costs (\\d+) ore. Each obsidian robot costs (\\d+) ore and (\\d+) clay. Each geode robot costs (\\d+) ore and (\\d+) obsidian.\",\n",
    "            ln,\n",
    "            )[0]\n",
    "        )\n",
    "        bps[bp_id] = {\n",
    "            \"ore_robot\": {\"ore\": ore_rbt_ore_cost},\n",
    "            \"clay_robot\": {\"ore\": cly_rbt_ore_cost},\n",
    "            \"obsidian_robot\": {\"ore\": obs_rbt_ore_cost, \"clay\": obs_rbt_clay_cost},\n",
    "            \"geode_robot\": {\"ore\": geode_rbt_ore_cost, \"obsidian\": geode_rbt_obs_cost},\n",
    "        }\n",
    "    return bps"
   ]
  },
  {
   "cell_type": "code",
   "execution_count": 349,
   "id": "6fa82560",
   "metadata": {},
   "outputs": [],
   "source": [
    "input_bps = parse_input(\"parsed_input.txt\")\n",
    "raw_bps = parse_raw_input(\"input.txt\")"
   ]
  },
  {
   "cell_type": "code",
   "execution_count": 350,
   "id": "04190a12",
   "metadata": {},
   "outputs": [
    {
     "data": {
      "text/plain": [
       "False"
      ]
     },
     "execution_count": 350,
     "metadata": {},
     "output_type": "execute_result"
    }
   ],
   "source": [
    "input_bps==raw_bps"
   ]
  },
  {
   "cell_type": "code",
   "execution_count": 351,
   "id": "9df9fe01",
   "metadata": {},
   "outputs": [
    {
     "data": {
      "text/plain": [
       "(30, 30)"
      ]
     },
     "execution_count": 351,
     "metadata": {},
     "output_type": "execute_result"
    }
   ],
   "source": [
    "len(input_bps), len(raw_bps)"
   ]
  },
  {
   "cell_type": "code",
   "execution_count": 353,
   "id": "42a1595d",
   "metadata": {},
   "outputs": [
    {
     "data": {
      "text/plain": [
       "{'ore_robot': {'ore': 4},\n",
       " 'clay_robot': {'ore': 4},\n",
       " 'obsidian_robot': {'ore': 4, 'clay': 1},\n",
       " 'geode_robot': {'ore': 2, 'obsidian': 15}}"
      ]
     },
     "execution_count": 353,
     "metadata": {},
     "output_type": "execute_result"
    }
   ],
   "source": [
    "input_bps[2] "
   ]
  },
  {
   "cell_type": "code",
   "execution_count": 354,
   "id": "9d85ded4",
   "metadata": {},
   "outputs": [
    {
     "data": {
      "text/plain": [
       "{'ore_robot': {'ore': 4},\n",
       " 'clay_robot': {'ore': 4},\n",
       " 'obsidian_robot': {'ore': 4, 'clay': 16},\n",
       " 'geode_robot': {'ore': 2, 'obsidian': 15}}"
      ]
     },
     "execution_count": 354,
     "metadata": {},
     "output_type": "execute_result"
    }
   ],
   "source": [
    "raw_bps[2]"
   ]
  },
  {
   "cell_type": "code",
   "execution_count": 352,
   "id": "8a735fda",
   "metadata": {},
   "outputs": [
    {
     "name": "stdout",
     "output_type": "stream",
     "text": [
      "1 True\n",
      "2 False\n",
      "3 False\n",
      "4 False\n",
      "5 False\n",
      "6 False\n",
      "7 False\n",
      "8 False\n",
      "9 False\n",
      "10 True\n",
      "11 True\n",
      "12 False\n",
      "13 False\n",
      "14 True\n",
      "15 False\n",
      "16 True\n",
      "17 True\n",
      "18 False\n",
      "19 True\n",
      "20 False\n",
      "21 False\n",
      "22 False\n",
      "23 False\n",
      "24 False\n",
      "25 False\n",
      "26 True\n",
      "27 False\n",
      "28 False\n",
      "29 False\n",
      "30 False\n"
     ]
    }
   ],
   "source": [
    "for i in range(1, 31):\n",
    "    print(i, input_bps[i] == raw_bps[i])"
   ]
  },
  {
   "cell_type": "code",
   "execution_count": 83,
   "id": "e3c42255",
   "metadata": {},
   "outputs": [
    {
     "data": {
      "text/plain": [
       "\"Player(ore=0, clay=0, obsidian=0, geode=0, rate={'ore': 1, 'clay': 0, 'obsidian': 0, 'geode': 0})\""
      ]
     },
     "execution_count": 83,
     "metadata": {},
     "output_type": "execute_result"
    }
   ],
   "source": [
    "str_player(default_player())"
   ]
  },
  {
   "cell_type": "markdown",
   "id": "aaca22fd",
   "metadata": {},
   "source": [
    "### Test data"
   ]
  },
  {
   "cell_type": "code",
   "execution_count": 68,
   "id": "d1e01dd8",
   "metadata": {},
   "outputs": [],
   "source": [
    "def parse_input(fl, lns):\n",
    "    blue_prints = [json.loads(ln) for ln in  open(fl).read().splitlines()]\n",
    "    out = {}\n",
    "    for bp in blue_prints:\n",
    "        bp = deepcopy(bp)\n",
    "        bp_num = bp['Blueprint']\n",
    "        del bp['Blueprint']\n",
    "        out[bp_num] = bp\n",
    "    return out"
   ]
  },
  {
   "cell_type": "code",
   "execution_count": 30,
   "id": "b8b92a67",
   "metadata": {},
   "outputs": [
    {
     "data": {
      "text/plain": [
       "{1: {'ore_robot': {'ore': 4},\n",
       "  'clay_robot': {'ore': 2},\n",
       "  'obsidian_robot': {'ore': 3, 'clay': 14},\n",
       "  'geode_robot': {'ore': 2, 'obsidian': 7}},\n",
       " 2: {'ore_robot': {'ore': 2},\n",
       "  'clay_robot': {'ore': 3},\n",
       "  'obsidian_robot': {'ore': 3, 'clay': 8},\n",
       "  'geode_robot': {'ore': 3, 'obsidian': 12}}}"
      ]
     },
     "execution_count": 30,
     "metadata": {},
     "output_type": "execute_result"
    }
   ],
   "source": [
    "test_bps = parse_input(\"parsed_test.txt\")\n",
    "input_bps = parse_input(\"parsed_input.txt\")\n",
    "test_bps"
   ]
  },
  {
   "cell_type": "code",
   "execution_count": 133,
   "id": "755eb403",
   "metadata": {},
   "outputs": [],
   "source": [
    "def next_states(blue_print, player):\n",
    "    \"\"\"Yields (plus_time, robot_to_build) \n",
    "    \"\"\"\n",
    "    opts = []\n",
    "    for robot, reqs in blue_print.items():\n",
    "        rbt_nxt_time = 0\n",
    "        for rsrc, min_val in reqs.items():\n",
    "            if player[rsrc] >= min_val:\n",
    "                continue\n",
    "            if player[\"rate\"][rsrc] == 0:\n",
    "                rbt_nxt_time = float('inf')\n",
    "                continue\n",
    "            rbt_nxt_time = max(\n",
    "                math.ceil((min_val - player[rsrc])/player[\"rate\"][rsrc]),\n",
    "                rbt_nxt_time,\n",
    "            )\n",
    "        if rbt_nxt_time != float('inf'):\n",
    "            opts.append((rbt_nxt_time, robot))\n",
    "    for opt insorted(opts):\n",
    "        yield opt"
   ]
  },
  {
   "cell_type": "code",
   "execution_count": 134,
   "id": "608b9255",
   "metadata": {
    "scrolled": true
   },
   "outputs": [
    {
     "data": {
      "text/plain": [
       "[(2, 'clay_robot'),\n",
       " (2, 'geode_robot'),\n",
       " (4, 'ore_robot'),\n",
       " (14, 'obsidian_robot')]"
      ]
     },
     "execution_count": 134,
     "metadata": {},
     "output_type": "execute_result"
    }
   ],
   "source": [
    "p = default_player()\n",
    "p[\"rate\"][\"obsidian\"] = 7 \n",
    "p[\"rate\"][\"clay\"] = 1 \n",
    "\n",
    "list(next_states(test_bps[1], player=p))"
   ]
  },
  {
   "cell_type": "code",
   "execution_count": 214,
   "id": "be28f442",
   "metadata": {},
   "outputs": [
    {
     "data": {
      "text/plain": [
       "{'ore_robot': {'ore': 4},\n",
       " 'clay_robot': {'ore': 2},\n",
       " 'obsidian_robot': {'ore': 3, 'clay': 14},\n",
       " 'geode_robot': {'ore': 2, 'obsidian': 7}}"
      ]
     },
     "execution_count": 214,
     "metadata": {},
     "output_type": "execute_result"
    }
   ],
   "source": [
    "bp"
   ]
  },
  {
   "cell_type": "code",
   "execution_count": 221,
   "id": "e85873c7",
   "metadata": {},
   "outputs": [
    {
     "data": {
      "text/plain": [
       "{'ore_robot': {'ore': 4},\n",
       " 'clay_robot': {'ore': 2},\n",
       " 'obsidian_robot': {'ore': 3, 'clay': 14},\n",
       " 'geode_robot': {'ore': 2, 'obsidian': 7}}"
      ]
     },
     "execution_count": 221,
     "metadata": {},
     "output_type": "execute_result"
    }
   ],
   "source": [
    "bp"
   ]
  },
  {
   "cell_type": "code",
   "execution_count": 220,
   "id": "fed6e9bd",
   "metadata": {},
   "outputs": [
    {
     "data": {
      "text/plain": [
       "[4, 2, 3, 2]"
      ]
     },
     "execution_count": 220,
     "metadata": {},
     "output_type": "execute_result"
    }
   ],
   "source": [
    "[reqs['ore'] for reqs in bp.values()]"
   ]
  },
  {
   "cell_type": "code",
   "execution_count": null,
   "id": "4479ecd8",
   "metadata": {},
   "outputs": [],
   "source": [
    "def max_geodes_bp(blueprint, max_time=24, toprint=False) -> int:\n",
    "    player = default_player()\n",
    "    return max_geodes_rec(\n",
    "        bp=blueprint,\n",
    "        player=deepcopy(player),\n",
    "        cur_time=0,\n",
    "        max_time=max_time,\n",
    "        cache={},\n",
    "        toprint=toprint,\n",
    "    )\n",
    "\n",
    "\n",
    "def max_geodes_rec(bp, player, cur_time, max_time, cache, toprint) -> int:\n",
    "    if cur_time == max_time:\n",
    "        return player[\"geode\"]\n",
    "    ckey = _cache_key(cur_time, player)\n",
    "    if ckey in cache:\n",
    "        return cache[ckey]\n",
    "    buildable_bots = list(buildable_robots(bp=bp, player=player))\n",
    "    _update_player_rsrc_inp(player=player)\n",
    "    dflt_kwargs = dict(bp=bp, cur_time=cur_time+1, cache=cache, toprint=toprint, max_time=max_time)\n",
    "    build_opts = [\n",
    "        max_geodes_rec(\n",
    "            player=_build_bot_inp(bot=bot, bot_reqs=bp[bot], player=deepcopy(player)),\n",
    "            **dflt_kwargs,\n",
    "        )\n",
    "        for bot in buildable_bots\n",
    "    ]\n",
    "    if toprint:\n",
    "        print(f\"Time: {cur_time}, {player}, buildable bots: {set(buildable_robots(bp=bp, player=player))}\")\n",
    "    nobuild_geodes = max_geodes_rec(player=deepcopy(player), **dflt_kwargs)\n",
    "    build_geodes = max(build_opts) if build_opts else 0\n",
    "    cache[ckey] = max(build_geodes, nobuild_geodes)\n",
    "    return cache[ckey]\n",
    "\n",
    "\n",
    "def _bot_to_rsrc(bot):\n",
    "    if bot is None:\n",
    "        return None\n",
    "    return bot.rstrip(\"_robot\")\n",
    "\n",
    "\n",
    "def _build_bot_inp(bot, bot_reqs, player):\n",
    "    for rsrc, rsrc_cnt in bot_reqs.items():\n",
    "        player[rsrc] -= rsrc_cnt\n",
    "    player[\"rate\"][_bot_to_rsrc(bot)] += 1\n",
    "    return player\n",
    "    \n",
    "\n",
    "def _update_player_rsrc_inp(player):\n",
    "    for rsrc, rate in player[\"rate\"].items():\n",
    "        player[rsrc] += rate\n",
    "\n",
    "\n",
    "def buildable_robots(bp, player):\n",
    "    if _is_buildable(bot_reqs=bp['geode_robot'], player=player):\n",
    "        yield 'geode_robot'\n",
    "        return\n",
    "    for robot, reqs in bp.items():\n",
    "        if not _is_buildable(bot_reqs=reqs, player=player):\n",
    "            continue\n",
    "        if robot == 'geode_robot':\n",
    "            yield robot\n",
    "            continue\n",
    "        # maximum required number of rsrcs tht is created by this bot\n",
    "        # if we already are producing max num, there's no point building\n",
    "        # more of such bots\n",
    "        bot_rsrc = _bot_to_rsrc(robot)\n",
    "        max_reqmt = max_rsrc_reqmt(bp=bp, bot_rsrc=bot_rsrc)\n",
    "        if player[\"rate\"][bot_rsrc] < max_reqmt:\n",
    "            yield robot\n",
    "\n",
    "def max_rsrc_reqmt(bp, bot_rsrc):\n",
    "    return max(reqs.get(bot_rsrc, 0) for reqs in bp.values())\n",
    "\n",
    "\n",
    "def _is_buildable(bot_reqs, player):\n",
    "    for rsrc, min_val in bot_reqs.items():\n",
    "        if player[rsrc] < min_val:\n",
    "            return False\n",
    "    else:\n",
    "        return True\n",
    "\n",
    "\n",
    "def _cache_key(cur_time, player):\n",
    "    rates = player[\"rate\"]\n",
    "    return (\n",
    "        f\"{cur_time}, {player['ore']}, {player['clay']}, {player['obsidian']}, {player['geode']}\"\n",
    "        f\"{rates['ore']}, {rates['clay']}, {rates['obsidian']}, {rates['geode']} \"\n",
    "    )"
   ]
  },
  {
   "cell_type": "code",
   "execution_count": 323,
   "id": "81f81787",
   "metadata": {},
   "outputs": [
    {
     "data": {
      "text/plain": [
       "{'ore_robot': {'ore': 4},\n",
       " 'clay_robot': {'ore': 2},\n",
       " 'obsidian_robot': {'ore': 3, 'clay': 14},\n",
       " 'geode_robot': {'ore': 2, 'obsidian': 7}}"
      ]
     },
     "execution_count": 323,
     "metadata": {},
     "output_type": "execute_result"
    }
   ],
   "source": [
    "bp = test_bps[1]\n",
    "bp"
   ]
  },
  {
   "cell_type": "markdown",
   "id": "f1a4ee0e",
   "metadata": {},
   "source": [
    "max_geodes_bp(bp, max_time=24, toprint=False)"
   ]
  },
  {
   "cell_type": "code",
   "execution_count": 326,
   "id": "6df1d232",
   "metadata": {},
   "outputs": [
    {
     "name": "stdout",
     "output_type": "stream",
     "text": [
      "11\n",
      "Elapsed: 66\n"
     ]
    }
   ],
   "source": [
    "st = time.time()\n",
    "print(max_geodes_bp(blueprint=input_bps[11], max_time=24, toprint=False))\n",
    "print(f\"Elapsed: {time.time()-st:.0f}\")"
   ]
  },
  {
   "cell_type": "code",
   "execution_count": 313,
   "id": "bb2a74f5",
   "metadata": {},
   "outputs": [],
   "source": [
    "import multiprocessing as mpl"
   ]
  },
  {
   "cell_type": "code",
   "execution_count": null,
   "id": "c62eb7ae",
   "metadata": {},
   "outputs": [],
   "source": [
    "def f(x): x*x\n",
    "\n",
    "with mpl.Pool(5) as p:\n",
    "    print(p.map(f, [1, 2, 3]))"
   ]
  },
  {
   "cell_type": "code",
   "execution_count": 283,
   "id": "397ed99b",
   "metadata": {},
   "outputs": [],
   "source": [
    "p = default_player()"
   ]
  },
  {
   "cell_type": "code",
   "execution_count": 303,
   "id": "97c88b7f",
   "metadata": {},
   "outputs": [],
   "source": [
    "p = default_player()\n",
    "p['ore'] = 1000\n",
    "p['clay'] = 1000\n",
    "p['obsidian'] = 1000\n",
    "p['rate']['obsidian'] = 6\n",
    "p['rate']['clay'] = 100\n",
    "p['rate']['ore'] = 0\n",
    "p['rate']['geode_robot'] = 10000\n"
   ]
  },
  {
   "cell_type": "code",
   "execution_count": 304,
   "id": "ca3d550e",
   "metadata": {},
   "outputs": [
    {
     "name": "stdout",
     "output_type": "stream",
     "text": [
      "ore 4 0\n",
      "clay 14 100\n",
      "obsidian 7 6\n"
     ]
    },
    {
     "data": {
      "text/plain": [
       "['ore_robot', 'obsidian_robot', 'geode_robot']"
      ]
     },
     "execution_count": 304,
     "metadata": {},
     "output_type": "execute_result"
    }
   ],
   "source": [
    "list(buildable_robots(bp, player=p))"
   ]
  }
 ],
 "metadata": {
  "kernelspec": {
   "display_name": "Python 3 (ipykernel)",
   "language": "python",
   "name": "python3"
  },
  "language_info": {
   "codemirror_mode": {
    "name": "ipython",
    "version": 3
   },
   "file_extension": ".py",
   "mimetype": "text/x-python",
   "name": "python",
   "nbconvert_exporter": "python",
   "pygments_lexer": "ipython3",
   "version": "3.10.8"
  }
 },
 "nbformat": 4,
 "nbformat_minor": 5
}
