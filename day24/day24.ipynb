{
 "cells": [
  {
   "cell_type": "code",
   "execution_count": 13,
   "id": "8e7a02b6",
   "metadata": {},
   "outputs": [],
   "source": [
    "import black\n",
    "import jupyter_black\n",
    "\n",
    "jupyter_black.load(\n",
    "    lab=False,\n",
    "    line_length=79,\n",
    "    target_version=black.TargetVersion.PY310,\n",
    ")"
   ]
  },
  {
   "cell_type": "code",
   "execution_count": 14,
   "id": "e44af660",
   "metadata": {},
   "outputs": [
    {
     "data": {
      "text/html": [
       "<style>.container { width:100% !important; }</style>"
      ],
      "text/plain": [
       "<IPython.core.display.HTML object>"
      ]
     },
     "metadata": {},
     "output_type": "display_data"
    }
   ],
   "source": [
    "from IPython.display import display, HTML, clear_output\n",
    "\n",
    "display(HTML(\"<style>.container { width:100% !important; }</style>\"))\n",
    "\n",
    "\n",
    "from dataclasses import dataclass, field\n",
    "import typing as t\n",
    "import itertools as it\n",
    "import collections as c\n",
    "import json\n",
    "from copy import deepcopy\n",
    "import math\n",
    "import time\n",
    "import functools as ft\n",
    "import numpy as np\n",
    "import tqdm.notebook\n",
    "import heapq"
   ]
  },
  {
   "cell_type": "code",
   "execution_count": 15,
   "id": "c287740e",
   "metadata": {},
   "outputs": [],
   "source": [
    "GRID_MP = {\"#\": \"wall\", \">\": \"rightw\", \"<\": \"leftw\", \"^\": \"upw\", \"v\": \"downw\"}\n",
    "INV_GRID_MP = {v: k for k, v in GRID_MP.items()}\n",
    "BLIZZARD = {\"rightw\", \"leftw\", \"upw\", \"downw\"}"
   ]
  },
  {
   "cell_type": "code",
   "execution_count": 16,
   "id": "b89b330a",
   "metadata": {},
   "outputs": [],
   "source": [
    "def parse_fl(fl, grid_mp=GRID_MP):\n",
    "    lns = open(fl).read().splitlines()\n",
    "    hlen, vlen = len(lns[0]), len(lns)\n",
    "    world = {\n",
    "        \"time\": 0,\n",
    "        \"goal\": (vlen - 1, hlen - 2),\n",
    "        \"wall\": set(),\n",
    "        \"leftw\": set(),\n",
    "        \"rightw\": set(),\n",
    "        \"upw\": set(),\n",
    "        \"downw\": set(),\n",
    "        \"hlen\": hlen,\n",
    "        \"vlen\": vlen,\n",
    "    }\n",
    "    for i, ln in enumerate(lns):\n",
    "        for j, c in enumerate(ln):\n",
    "            if c not in grid_mp:\n",
    "                continue\n",
    "            world[grid_mp[c]].add((i, j))\n",
    "    return (0, 1), world\n",
    "\n",
    "\n",
    "def state_to_grid(world, player=(0, 1), inv_grid_mp=INV_GRID_MP):\n",
    "    grid = \"\\n\".join(\n",
    "        \"\".join(\n",
    "            _char(\n",
    "                i=i, j=j, world=world, player=player, inv_grid_mp=inv_grid_mp\n",
    "            )\n",
    "            for j in range(world[\"hlen\"])\n",
    "        )\n",
    "        for i in range(world[\"vlen\"])\n",
    "    )\n",
    "    return f\"Time: {world['time']}\\n\\n{grid}\"\n",
    "\n",
    "\n",
    "def _char(i, j, world, player, inv_grid_mp) -> str:\n",
    "    ch_char = None\n",
    "    for cell_type, cval in inv_grid_mp.items():\n",
    "        if (i, j) not in world[cell_type]:\n",
    "            continue\n",
    "        match ch_char:\n",
    "            case None:\n",
    "                ch_char = cval\n",
    "            case int():\n",
    "                ch_char += 1\n",
    "            case str():\n",
    "                ch_char = 2\n",
    "    if (i, j) == player:\n",
    "        ch_char = \"P\"\n",
    "    elif ch_char is None and (i, j) == world[\"goal\"]:\n",
    "        ch_char = \"G\"\n",
    "    elif ch_char is None:\n",
    "        ch_char = \".\"\n",
    "    return str(ch_char)"
   ]
  },
  {
   "cell_type": "code",
   "execution_count": 17,
   "id": "95ee9d82",
   "metadata": {},
   "outputs": [],
   "source": [
    "orig_player, input_world = parse_fl(\"input.txt\")\n",
    "player, small_test_world = parse_fl(\"small_test.txt\")\n",
    "player, test_world = parse_fl(\"test.txt\")"
   ]
  },
  {
   "cell_type": "code",
   "execution_count": 18,
   "id": "1249da8c",
   "metadata": {},
   "outputs": [
    {
     "name": "stdout",
     "output_type": "stream",
     "text": [
      "Time: 0\n",
      "\n",
      "#P######\n",
      "#>>.<^<#\n",
      "#.<..<<#\n",
      "#>v.><>#\n",
      "#<^v^^>#\n",
      "######G#\n"
     ]
    }
   ],
   "source": [
    "print(state_to_grid(world=test_world, player=player))"
   ]
  },
  {
   "cell_type": "markdown",
   "id": "8df859c8",
   "metadata": {},
   "source": [
    "### Next state code"
   ]
  },
  {
   "cell_type": "code",
   "execution_count": 19,
   "id": "41b90272",
   "metadata": {},
   "outputs": [],
   "source": [
    "class World:\n",
    "    def __init__(self, world_at_t0):\n",
    "        self.cache = {0: world_at_t0}\n",
    "        self.max_t = 0\n",
    "\n",
    "    def at_time(self, t):\n",
    "        \"\"\"Brings new world, also caches world world as\n",
    "        only thing that changes is player position.\n",
    "        \"\"\"\n",
    "        if t in self.cache:\n",
    "            new_world = self.cache[t]\n",
    "        else:\n",
    "            assert (\n",
    "                t == self.max_t + 1\n",
    "            ), \"We move build world 1 second at a time\"\n",
    "            self.max_t = t\n",
    "            world = self.cache[t - 1]\n",
    "            hlen, vlen = world[\"hlen\"], world[\"vlen\"]\n",
    "            hend, vend = hlen - 1, vlen - 1\n",
    "            new_world = {\n",
    "                \"time\": world[\"time\"] + 1,\n",
    "                \"goal\": world[\"goal\"],\n",
    "                # never changes no need to create copy\n",
    "                \"wall\": world[\"wall\"],\n",
    "                \"leftw\": {_move_lt(pi, pj, hlen) for pi, pj in world[\"leftw\"]},\n",
    "                \"rightw\": set(\n",
    "                    _move_rt(pi, pj, hlen) for pi, pj in world[\"rightw\"]\n",
    "                ),\n",
    "                \"upw\": set(_move_up(pi, pj, vlen) for pi, pj in world[\"upw\"]),\n",
    "                \"downw\": set(\n",
    "                    _move_down(pi, pj, vlen) for pi, pj in world[\"downw\"]\n",
    "                ),\n",
    "                \"hlen\": hlen,\n",
    "                \"vlen\": vlen,\n",
    "            }\n",
    "            self.cache[t] = new_world\n",
    "        return new_world\n",
    "\n",
    "\n",
    "def _move_lt(pi, pj, hlen):\n",
    "    # -1 because last col is a wall\n",
    "    pj = pj - 1 if pj > 1 else hlen - 2\n",
    "    return (pi, pj)\n",
    "\n",
    "\n",
    "def _move_rt(pi, pj, hlen):\n",
    "    pj = pj + 1 if pj < hlen - 2 else 1\n",
    "    return (pi, pj)\n",
    "\n",
    "\n",
    "def _move_up(pi, pj, vlen):\n",
    "    pi = pi - 1 if pi > 1 else vlen - 2\n",
    "    return (pi, pj)\n",
    "\n",
    "\n",
    "def _move_down(pi, pj, vlen):\n",
    "    pi = pi + 1 if pi < vlen - 2 else 1\n",
    "    return (pi, pj)"
   ]
  },
  {
   "cell_type": "markdown",
   "id": "8c3f26c6",
   "metadata": {},
   "source": [
    "### Visualise state"
   ]
  },
  {
   "cell_type": "code",
   "execution_count": 21,
   "id": "a34534c6",
   "metadata": {},
   "outputs": [
    {
     "name": "stdout",
     "output_type": "stream",
     "text": [
      "Time: 4\n",
      "\n",
      "#P#####\n",
      "#....^#\n",
      "#....>#\n",
      "#..<v.#\n",
      "#.....#\n",
      "#.....#\n",
      "#####G#\n"
     ]
    }
   ],
   "source": [
    "worlder = World(small_test_world)\n",
    "for i in range(5):\n",
    "    clear_output(wait=True)\n",
    "    world = worlder.at_time(i)\n",
    "    print(state_to_grid(player=player, world=world))\n",
    "    time.sleep(1)"
   ]
  },
  {
   "cell_type": "markdown",
   "id": "a55aa0f1",
   "metadata": {},
   "source": [
    "### BFS through states"
   ]
  },
  {
   "cell_type": "code",
   "execution_count": 22,
   "id": "c7406ec5",
   "metadata": {},
   "outputs": [],
   "source": [
    "@dataclass\n",
    "class ScoreState:\n",
    "    hscore: int\n",
    "    cur_time: int\n",
    "    player: tuple\n",
    "\n",
    "    def __lt__(self, other):\n",
    "        return self.hscore < other.hscore"
   ]
  },
  {
   "cell_type": "code",
   "execution_count": 23,
   "id": "ab147620",
   "metadata": {},
   "outputs": [],
   "source": [
    "def timed_fn(f):\n",
    "    @ft.wraps(f)\n",
    "    def wrap(*args, **kw):\n",
    "        ts = time.time()\n",
    "        result = f(*args, **kw)\n",
    "        te = time.time()\n",
    "        elp = te - ts\n",
    "        print(f\"Elapsed time: {elp:,.0f}s {elp//60:,.0f}m\")\n",
    "        return result\n",
    "\n",
    "    return wrap\n",
    "\n",
    "\n",
    "@timed_fn\n",
    "def search_wrapper(player, goal, st_world, disp_simple=True, one_trip=True):\n",
    "    worlder = World(st_world)\n",
    "    kwrgs = dict(worlder=worlder, disp_simple=disp_simple)\n",
    "    if one_trip:\n",
    "        trip_times = [\n",
    "            search_path(player=player, goal=goal, cur_time=0, **kwrgs)\n",
    "        ]\n",
    "    else:\n",
    "        t1_tm = search_path(player=player, goal=goal, cur_time=0, **kwrgs)\n",
    "        t2_tm = search_path(player=goal, goal=player, cur_time=t1_tm, **kwrgs)\n",
    "        t3_tm = search_path(player=player, goal=goal, cur_time=t2_tm, **kwrgs)\n",
    "        trip_times = [t1_tm, t2_tm, t3_tm]\n",
    "    for tnum, tm in enumerate(trip_times, start=1):\n",
    "        print(\n",
    "            f\"Trip {tnum} | Time taken: {tm} | Total time: {sum(trip_times)}\"\n",
    "        )\n",
    "    return trip_times\n",
    "\n",
    "\n",
    "def search_path(player, goal, worlder, cur_time, disp_simple):\n",
    "    q = [ScoreState(hscore=0, player=player, cur_time=cur_time)]\n",
    "    it, seen, = (\n",
    "        0,\n",
    "        set(),\n",
    "    )\n",
    "    while q:\n",
    "        state = heapq.heappop(q)\n",
    "        ct, plyr = state.cur_time, state.player\n",
    "        seen.add((ct, plyr))\n",
    "        if plyr == goal:\n",
    "            return ct\n",
    "        new_world = worlder.at_time(ct + 1)\n",
    "        for ss in _next_valid_states(\n",
    "            new_world=new_world, player=plyr, goal=goal\n",
    "        ):\n",
    "            if (ss.cur_time, ss.player) in seen:\n",
    "                # If i have come back to the same state as before after several\n",
    "                # steps, there is no point continuing the same options again\n",
    "                continue\n",
    "            heapq.heappush(q, ss)\n",
    "        it += 1\n",
    "        _disp_progress(\n",
    "            it=it,\n",
    "            player=plyr,\n",
    "            cur_time=ct,\n",
    "            worlder=worlder,\n",
    "            disp_simple=disp_simple,\n",
    "            qlen=len(q),\n",
    "        )\n",
    "\n",
    "\n",
    "def _next_valid_states(new_world, player, goal):\n",
    "    \"\"\"Provides next states but uses A* to select which\n",
    "    states are searched first.\n",
    "    \"\"\"\n",
    "    for adj_i, adj_j in it.product([-1, 0, 1], [-1, 0, 1]):\n",
    "        if adj_i != 0 and adj_j != 0:\n",
    "            # diag paths not allowed\n",
    "            continue\n",
    "        pi, pj = player\n",
    "        npi, npj = pi + adj_i, pj + adj_j\n",
    "        new_pos = (npi, npj)\n",
    "        if (\n",
    "            (npi < 0)\n",
    "            or (npj < 0)\n",
    "            or (npi >= new_world[\"vlen\"])\n",
    "            or (npj > new_world[\"hlen\"])\n",
    "            or any(\n",
    "                new_pos in new_world[obs]\n",
    "                for obs in [\"wall\", \"leftw\", \"rightw\", \"upw\", \"downw\"]\n",
    "            )\n",
    "        ):\n",
    "            continue\n",
    "        heuristic_score = (\n",
    "            _manhattan_dist(player, goal=goal) + new_world[\"time\"]\n",
    "        )\n",
    "        yield ScoreState(\n",
    "            hscore=heuristic_score, player=new_pos, cur_time=new_world[\"time\"]\n",
    "        )\n",
    "\n",
    "\n",
    "def _manhattan_dist(player, goal):\n",
    "    (pi, pj), (gi, gj) = player, goal\n",
    "    return abs(pi - gi) + abs(pj - gj)\n",
    "\n",
    "\n",
    "def _disp_progress(it, player, cur_time, worlder, qlen, disp_simple):\n",
    "    if disp_simple:\n",
    "        _simple_progress(cur_time=cur_time, qlen=qlen, it=it)\n",
    "        return\n",
    "    clear_output(wait=True)\n",
    "    print(f\"Iteration: {it:,}\")\n",
    "    print(state_to_grid(player=player, world=worlder.at_time(cur_time)))\n",
    "    time.sleep(1.5)\n",
    "\n",
    "\n",
    "def _simple_progress(cur_time, qlen, it):\n",
    "    if it % 1000_000 == 0:\n",
    "        clear_output(wait=True)\n",
    "        print(\n",
    "            f\"Iteration: {it:,} | Processing current time: {cur_time}\"\n",
    "            f\" | Number of states to be explore in queue: {qlen:,}\"\n",
    "        )\n",
    "    return cur_time"
   ]
  },
  {
   "cell_type": "code",
   "execution_count": 24,
   "id": "e9cfce1c",
   "metadata": {},
   "outputs": [],
   "source": [
    "# search_path(state=test_state)"
   ]
  },
  {
   "cell_type": "code",
   "execution_count": 25,
   "id": "cf66c31c",
   "metadata": {},
   "outputs": [
    {
     "name": "stdout",
     "output_type": "stream",
     "text": [
      "Trip 1 | Time taken: 18 | Total time: 113\n",
      "Trip 2 | Time taken: 41 | Total time: 113\n",
      "Trip 3 | Time taken: 54 | Total time: 113\n",
      "Elapsed time: 0s 0m\n"
     ]
    }
   ],
   "source": [
    "wld = test_world\n",
    "rnd = search_wrapper(\n",
    "    player=orig_player,\n",
    "    goal=wld[\"goal\"],\n",
    "    st_world=wld,\n",
    "    disp_simple=True,\n",
    "    one_trip=False,\n",
    ")"
   ]
  },
  {
   "cell_type": "code",
   "execution_count": null,
   "id": "1a8ff551",
   "metadata": {},
   "outputs": [],
   "source": []
  },
  {
   "cell_type": "code",
   "execution_count": null,
   "id": "6ec40e0e",
   "metadata": {},
   "outputs": [],
   "source": []
  }
 ],
 "metadata": {
  "kernelspec": {
   "display_name": "Python 3 (ipykernel)",
   "language": "python",
   "name": "python3"
  },
  "language_info": {
   "codemirror_mode": {
    "name": "ipython",
    "version": 3
   },
   "file_extension": ".py",
   "mimetype": "text/x-python",
   "name": "python",
   "nbconvert_exporter": "python",
   "pygments_lexer": "ipython3",
   "version": "3.10.8"
  }
 },
 "nbformat": 4,
 "nbformat_minor": 5
}
