{
 "cells": [
  {
   "cell_type": "code",
   "execution_count": 105,
   "id": "a7faa327",
   "metadata": {},
   "outputs": [
    {
     "data": {
      "text/html": [
       "<style>.container { width:100% !important; }</style>"
      ],
      "text/plain": [
       "<IPython.core.display.HTML object>"
      ]
     },
     "metadata": {},
     "output_type": "display_data"
    }
   ],
   "source": [
    "import black\n",
    "import jupyter_black\n",
    "\n",
    "jupyter_black.load(\n",
    "    lab=False,\n",
    "    line_length=79,\n",
    "    target_version=black.TargetVersion.PY310,\n",
    ")\n",
    "from IPython.display import display, HTML, clear_output\n",
    "\n",
    "display(HTML(\"<style>.container { width:100% !important; }</style>\"))\n",
    "\n",
    "\n",
    "from dataclasses import dataclass, field\n",
    "import typing as t\n",
    "import itertools as it\n",
    "import collections as c\n",
    "import json\n",
    "from copy import deepcopy\n",
    "import math as m\n",
    "import time\n",
    "import functools as ft\n",
    "import numpy as np\n",
    "import tqdm.notebook\n",
    "import heapq"
   ]
  },
  {
   "cell_type": "markdown",
   "id": "9813ae65",
   "metadata": {},
   "source": [
    "### Decimal to SNAFU"
   ]
  },
  {
   "cell_type": "code",
   "execution_count": 186,
   "id": "28419059",
   "metadata": {},
   "outputs": [],
   "source": [
    "EXP = 5\n",
    "NEG_MAP = {2: '=', 1: '-'}\n",
    "SNAFU_MAP = {'=': -2, '-': -1, '0': 0, '1': 1, '2': 2}"
   ]
  },
  {
   "cell_type": "code",
   "execution_count": 198,
   "id": "ffda10f3",
   "metadata": {},
   "outputs": [],
   "source": [
    "def d2s(num, digits=None, exp=EXP, neg_map=NEG_MAP):\n",
    "    # Terminal state\n",
    "    end_st = {-2: '=', -1: '-', 0: 0, 1: 1, 2: 2}\n",
    "    if num in end_st:\n",
    "        digits[0] = end_st[num]\n",
    "        return _dgt_lst2str(digits)\n",
    "    neg_map = neg_map or NEG_MAP\n",
    "    # Setup\n",
    "    sign = -1 if num < 0 else 1\n",
    "    absnum = abs(num)\n",
    "    # Num digits\n",
    "    k = m.log(absnum, exp)\n",
    "    fk, ck = m.floor(k)+1, m.ceil(k)+1\n",
    "    nd = ck if absnum > mx4digits(fk) else fk\n",
    "    # equals for pows of EXP\n",
    "    msd = 1 if fvpow(nd-1) + mx4digits(nd-1) >= absnum else 2\n",
    "    digits = digits if digits else [0] * nd\n",
    "    digits[nd-1] = msd if sign == 1 else neg_map[msd]\n",
    "    new_num = num - sign * msd* fvpow(nd-1)\n",
    "    # print(f\"{num=}, {new_num=}, {fvpow(nd-1)=},{sign=}, {nd=}, {msd=}, {digits[nd-1]=}, {digits=}\")\n",
    "    d2s(new_num, digits=digits, exp=exp, neg_map=neg_map)\n",
    "    return _dgt_lst2str(digits)\n",
    "\n",
    "def _dgt_lst2str(lst):\n",
    "    return ''.join(str(c) for c in reversed(lst))\n",
    "\n",
    "@ft.cache\n",
    "def mx4digits(n):\n",
    "    return 2 *(EXP**n - 1) // (EXP-1)\n",
    "\n",
    "\n",
    "@ft.cache\n",
    "def fvpow(n):\n",
    "    return 5**n"
   ]
  },
  {
   "cell_type": "code",
   "execution_count": 199,
   "id": "d6fcf522",
   "metadata": {
    "scrolled": false
   },
   "outputs": [
    {
     "data": {
      "text/plain": [
       "'1121-1110-1=0'"
      ]
     },
     "execution_count": 199,
     "metadata": {},
     "output_type": "execute_result"
    }
   ],
   "source": [
    "d2s(314159265)"
   ]
  },
  {
   "cell_type": "markdown",
   "id": "a57e4b57",
   "metadata": {},
   "source": [
    "### SNAFU to Decimal"
   ]
  },
  {
   "cell_type": "code",
   "execution_count": 189,
   "id": "0a32cfa5",
   "metadata": {},
   "outputs": [],
   "source": [
    "def s2d(snafu, snafu_map=SNAFU_MAP):\n",
    "    msd_pow = len(snafu) - 1\n",
    "    dcml = 0\n",
    "    for i, c in enumerate(snafu):\n",
    "        dcml += snafu_map[c] * fvpow(msd_pow-i)\n",
    "    return dcml"
   ]
  },
  {
   "cell_type": "code",
   "execution_count": 191,
   "id": "e8f236ec",
   "metadata": {},
   "outputs": [
    {
     "data": {
      "text/plain": [
       "314159265"
      ]
     },
     "execution_count": 191,
     "metadata": {},
     "output_type": "execute_result"
    }
   ],
   "source": [
    "s2d(\"1121-1110-1=0\")"
   ]
  },
  {
   "cell_type": "code",
   "execution_count": 192,
   "id": "6d2d4dbd",
   "metadata": {},
   "outputs": [],
   "source": [
    "def parse_fl(fl):\n",
    "    return open(fl).read().splitlines()"
   ]
  },
  {
   "cell_type": "code",
   "execution_count": 201,
   "id": "1f342929",
   "metadata": {},
   "outputs": [
    {
     "name": "stdout",
     "output_type": "stream",
     "text": [
      "Test: 2=-1=0\n"
     ]
    }
   ],
   "source": [
    "print(\"Test:\", d2s(sum(s2d(snfu) for snfu in parse_fl(\"test.txt\"))))"
   ]
  },
  {
   "cell_type": "code",
   "execution_count": 202,
   "id": "136998c2",
   "metadata": {},
   "outputs": [
    {
     "name": "stdout",
     "output_type": "stream",
     "text": [
      "Input: 2-=2-0=-0-=0200=--21\n"
     ]
    }
   ],
   "source": [
    "print(\"Input:\", d2s(sum(s2d(snfu) for snfu in parse_fl(\"input.txt\"))))"
   ]
  },
  {
   "cell_type": "code",
   "execution_count": null,
   "id": "77853166",
   "metadata": {},
   "outputs": [],
   "source": []
  }
 ],
 "metadata": {
  "kernelspec": {
   "display_name": "Python 3 (ipykernel)",
   "language": "python",
   "name": "python3"
  },
  "language_info": {
   "codemirror_mode": {
    "name": "ipython",
    "version": 3
   },
   "file_extension": ".py",
   "mimetype": "text/x-python",
   "name": "python",
   "nbconvert_exporter": "python",
   "pygments_lexer": "ipython3",
   "version": "3.10.8"
  }
 },
 "nbformat": 4,
 "nbformat_minor": 5
}
