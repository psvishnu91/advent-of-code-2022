{
 "cells": [
  {
   "cell_type": "code",
   "execution_count": 1,
   "id": "47c685dc",
   "metadata": {},
   "outputs": [
    {
     "data": {
      "text/html": [
       "<style>.container { width:100% !important; }</style>"
      ],
      "text/plain": [
       "<IPython.core.display.HTML object>"
      ]
     },
     "metadata": {},
     "output_type": "display_data"
    }
   ],
   "source": [
    "from IPython.display import display, HTML\n",
    "display(HTML(\"<style>.container { width:100% !important; }</style>\"))"
   ]
  },
  {
   "cell_type": "code",
   "execution_count": 135,
   "id": "d08d3576",
   "metadata": {},
   "outputs": [],
   "source": [
    "from dataclasses import dataclass, field\n",
    "import typing as t\n",
    "import itertools as it\n",
    "import collections as c\n",
    "import json\n",
    "from copy import deepcopy\n",
    "import math\n",
    "import time\n",
    "import functools as ft\n",
    "import numpy as np\n",
    "import tqdm.notebook"
   ]
  },
  {
   "cell_type": "code",
   "execution_count": 38,
   "id": "fa9ebecb",
   "metadata": {},
   "outputs": [],
   "source": [
    "def parse_fl(fl):\n",
    "    lns = open(fl).read().splitlines()\n",
    "    grid = np.array([list(ln) for ln in lns])\n",
    "    return grid, {(i,j) for i, ln in enumerate(lns) for j, c in enumerate(ln) if c=='#'}"
   ]
  },
  {
   "cell_type": "code",
   "execution_count": 53,
   "id": "604bed9a",
   "metadata": {},
   "outputs": [],
   "source": [
    "small_grid, small_elves = parse_fl(\"small-test.txt\")\n",
    "test_grid, test_elves = parse_fl(\"test.txt\")\n",
    "input_grid, input_elves = parse_fl(\"input.txt\")"
   ]
  },
  {
   "cell_type": "code",
   "execution_count": 154,
   "id": "fdeb440d",
   "metadata": {},
   "outputs": [
    {
     "data": {
      "text/plain": [
       "array([['.', '.', '#', '#', '.'],\n",
       "       ['.', '.', '.', '.', '.'],\n",
       "       ['.', '.', '#', '.', '.'],\n",
       "       ['.', '.', '.', '#', '.'],\n",
       "       ['.', '.', '#', '.', '.'],\n",
       "       ['.', '.', '.', '.', '.']], dtype='<U1')"
      ]
     },
     "execution_count": 154,
     "metadata": {},
     "output_type": "execute_result"
    }
   ],
   "source": [
    "small_grid"
   ]
  },
  {
   "cell_type": "code",
   "execution_count": 155,
   "id": "3fd23c41",
   "metadata": {},
   "outputs": [
    {
     "data": {
      "text/plain": [
       "{(0, 2), (0, 3), (2, 2), (3, 3), (4, 2)}"
      ]
     },
     "execution_count": 155,
     "metadata": {},
     "output_type": "execute_result"
    }
   ],
   "source": [
    "small_elves"
   ]
  },
  {
   "cell_type": "code",
   "execution_count": 50,
   "id": "02d70d27",
   "metadata": {},
   "outputs": [],
   "source": [
    "MV_ORDERS = [\n",
    "    ['n', 's', 'w', 'e'],\n",
    "    ['s', 'w', 'e', 'n'],\n",
    "    ['w', 'e', 'n', 's'],\n",
    "    ['e', 'n', 's', 'w'],\n",
    "]"
   ]
  },
  {
   "cell_type": "code",
   "execution_count": 129,
   "id": "4f0f012e",
   "metadata": {},
   "outputs": [],
   "source": [
    "def next_pos(pos, elves, mv_order):\n",
    "    if not is_other_elf_adj(pos=pos, elves=elves):\n",
    "        return pos\n",
    "    mv_map = {\n",
    "        'n': {'adj_fn': _adj_north, 'pi': -1, 'pj': 0},\n",
    "        's': {'adj_fn': _adj_south, 'pi': +1, 'pj': 0},\n",
    "        'e': {'adj_fn': _adj_east, 'pi': 0, 'pj': +1},\n",
    "        'w': {'adj_fn': _adj_west, 'pi': 0, 'pj': -1},\n",
    "    }\n",
    "    for mv in mv_order:\n",
    "        mv_info = mv_map[mv]\n",
    "        if mv_info['adj_fn'](pos) & elves:\n",
    "            continue\n",
    "        else:\n",
    "            next_pos = (pos[0]+mv_info['pi'], pos[1]+mv_info['pj'])\n",
    "#             print(mv)\n",
    "            break\n",
    "    else:\n",
    "        next_pos = pos\n",
    "    return next_pos\n",
    "\n",
    "\n",
    "def _adj_north(pos):\n",
    "    pi, pj = pos\n",
    "    return {(pi-1, pj-1), (pi-1, pj), (pi-1, pj+1)}\n",
    "\n",
    "def _adj_south(pos):\n",
    "    pi, pj = pos\n",
    "    return {(pi+1, pj-1), (pi+1, pj), (pi+1, pj+1)}\n",
    "\n",
    "def _adj_east(pos):\n",
    "    pi, pj = pos\n",
    "    return {(pi-1, pj+1), (pi, pj+1), (pi+1, pj+1)}\n",
    "\n",
    "def _adj_west(pos):\n",
    "    pi, pj = pos\n",
    "    return {(pi-1, pj-1), (pi, pj-1), (pi+1, pj-1)}\n",
    "                \n",
    "\n",
    "def is_other_elf_adj(pos, elves):\n",
    "    return any(adj in elves for adj in _adj_poses(pos))\n",
    "\n",
    "def _adj_poses(pos):\n",
    "    return {(pos[0]+i, pos[1]+j) for i, j in it.product([-1,0,1], [-1,0,1]) if not i==j==0}"
   ]
  },
  {
   "cell_type": "code",
   "execution_count": 156,
   "id": "256d8d15",
   "metadata": {},
   "outputs": [
    {
     "data": {
      "text/plain": [
       "[['n', 's', 'w', 'e'],\n",
       " ['s', 'w', 'e', 'n'],\n",
       " ['w', 'e', 'n', 's'],\n",
       " ['e', 'n', 's', 'w']]"
      ]
     },
     "execution_count": 156,
     "metadata": {},
     "output_type": "execute_result"
    }
   ],
   "source": [
    "MV_ORDERS"
   ]
  },
  {
   "cell_type": "code",
   "execution_count": 152,
   "id": "3c6f3768",
   "metadata": {},
   "outputs": [],
   "source": [
    "def play(elves, max_rounds=1000_000_000_000, mv_orders_gvn=MV_ORDERS):\n",
    "    elves = deepcopy(elves)\n",
    "    _round = 1\n",
    "    mv_orders = it.cycle(mv_orders_gvn)\n",
    "    for _round in tqdm.notebook.tqdm(range(max_rounds)):\n",
    "        is_finished, new_pos_map, pos_ctr = round1(elves=elves, mv_order=next(mv_orders))\n",
    "        if is_finished:\n",
    "            print(f\"Finished at round: {_round+1}\")\n",
    "            break\n",
    "        elves = round2(new_pos_map=new_pos_map, pos_ctr=pos_ctr)\n",
    "    return num_empty_grid(elves)\n",
    "\n",
    "def round1(elves, mv_order):\n",
    "    is_finished, new_pos_map, pos_ctr = True, {}, c.Counter()\n",
    "    for old_pos in elves:\n",
    "        np = next_pos(pos=old_pos, elves=elves, mv_order=mv_order)\n",
    "        is_finished &= old_pos == np\n",
    "        new_pos_map[old_pos] = np\n",
    "        pos_ctr[np] += 1\n",
    "    return is_finished, new_pos_map, pos_ctr\n",
    "\n",
    "def round2(new_pos_map, pos_ctr):\n",
    "    return {\n",
    "        new_pos if pos_ctr[new_pos] == 1 else old_pos\n",
    "        for old_pos, new_pos in new_pos_map.items() \n",
    "    }\n",
    "\n",
    "def num_empty_grid(elves):\n",
    "    pis, pjs = list(zip(*sorted(elves)))\n",
    "    return (\n",
    "        ((max(pis)-min(pis)+1) * (max(pjs)-min(pjs)+1))\n",
    "        - len(elves)\n",
    "    )"
   ]
  },
  {
   "cell_type": "code",
   "execution_count": 153,
   "id": "49f63c0c",
   "metadata": {},
   "outputs": [
    {
     "data": {
      "application/vnd.jupyter.widget-view+json": {
       "model_id": "5994985cae0c44278599d7d3824b5375",
       "version_major": 2,
       "version_minor": 0
      },
      "text/plain": [
       "  0%|          | 0/1000000000000 [00:00<?, ?it/s]"
      ]
     },
     "metadata": {},
     "output_type": "display_data"
    },
    {
     "name": "stdout",
     "output_type": "stream",
     "text": [
      "Finished at round: 938\n"
     ]
    },
    {
     "data": {
      "text/plain": [
       "15651"
      ]
     },
     "execution_count": 153,
     "metadata": {},
     "output_type": "execute_result"
    }
   ],
   "source": [
    "play(elves=input_elves, mv_orders_gvn=MV_ORDERS)"
   ]
  },
  {
   "cell_type": "code",
   "execution_count": null,
   "id": "4392ff34",
   "metadata": {},
   "outputs": [],
   "source": []
  }
 ],
 "metadata": {
  "kernelspec": {
   "display_name": "Python 3 (ipykernel)",
   "language": "python",
   "name": "python3"
  },
  "language_info": {
   "codemirror_mode": {
    "name": "ipython",
    "version": 3
   },
   "file_extension": ".py",
   "mimetype": "text/x-python",
   "name": "python",
   "nbconvert_exporter": "python",
   "pygments_lexer": "ipython3",
   "version": "3.10.8"
  }
 },
 "nbformat": 4,
 "nbformat_minor": 5
}
